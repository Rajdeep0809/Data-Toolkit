{
  "nbformat": 4,
  "nbformat_minor": 0,
  "metadata": {
    "colab": {
      "provenance": []
    },
    "kernelspec": {
      "name": "python3",
      "display_name": "Python 3"
    },
    "language_info": {
      "name": "python"
    }
  },
  "cells": [
    {
      "cell_type": "code",
      "execution_count": 1,
      "metadata": {
        "colab": {
          "base_uri": "https://localhost:8080/"
        },
        "id": "3so0MOsZRUnP",
        "outputId": "e46360b5-cb95-42f8-8ec2-7783a1bf486b"
      },
      "outputs": [
        {
          "output_type": "stream",
          "name": "stdout",
          "text": [
            "Object `Python` not found.\n"
          ]
        }
      ],
      "source": [
        "1.What is NumPy, and why is it widely used in Python?\n",
        "\n",
        "what is NumPy:\n",
        "\n",
        "NumPy is the fundamental package for scientific computing in python.it is a powerful open source library that provides support for multi dimensional arrays,mathematical functions,and linear algebra\n",
        "\n",
        "NumPy Widely Used:\n",
        "\n",
        " performance and efficiency\n"
      ]
    },
    {
      "cell_type": "markdown",
      "source": [
        "2.How does broadcasting work in NumPy?\n",
        "\n",
        " 1.Simple scaling\n",
        " 2.Adding a Vector to a Matrix\n",
        " 3.Incompatible arrays"
      ],
      "metadata": {
        "id": "VvsKZ4TvRmHq"
      }
    },
    {
      "cell_type": "markdown",
      "source": [
        "3.What is a Pandas DataFrame?\n",
        "  A Pandas Data Frame is two dimwnsional tabular data structure in python library pandas.It like an excel spreadsheet but inside python"
      ],
      "metadata": {
        "id": "qBTB17_MVTUL"
      }
    },
    {
      "cell_type": "markdown",
      "source": [
        "4.Explain the use of the groupby() method in Pandas\n",
        "\n",
        "  The groupby () method in pandas is used to split into groups based on the values in one or more columns then apply some operation on each group\n",
        "  Steps\n",
        "  1.Split: Divide the data frame into groups based on some colums\n",
        "  2.Apply: Perform an operation(sum,mean,min,max)\n",
        "  3.Combine: Return the results as a new data frame or series"
      ],
      "metadata": {
        "id": "om39KfbDbX6r"
      }
    },
    {
      "cell_type": "markdown",
      "source": [
        "5.Why is Seaborn preferred for statistical visualizations\n",
        "\n",
        "  Seaborn is preferred for statistical data visualization in python because it is built on top of matplotlib but provides a higher level easier to use interface that specially designed for statistical plots"
      ],
      "metadata": {
        "id": "99zg36t5dDZU"
      }
    },
    {
      "cell_type": "markdown",
      "source": [
        "6.What are the differences between NumPy arrays and Python lists?\n",
        "  \n",
        "  Python List:\n",
        "  1.Can store elements of different data types\n",
        "  2.Slower fo numerical computation because each element is generic python objects\n",
        "\n",
        "  NumPy Arrays:\n",
        "  1.Store elements of the same data types makes it faster and memory efficient\n",
        "  2.Much faster,great for math and large datasets\n",
        "  "
      ],
      "metadata": {
        "id": "U3_IwbPgd1lk"
      }
    },
    {
      "cell_type": "markdown",
      "source": [
        "7.What is a heatmap, and when should it be used?\n",
        "  \n",
        "  Heatmap:\n",
        " A heatmap is atype of data visualisation that uses color intensity to represent values ina matrix or 2D data set.Instead showing numbers directly,a heatmap makes it easy to spot patterns,trends,and outliers by using color\n",
        "\n",
        "  Use:\n",
        "  1.Correlation Analysis\n",
        "  2.Large data Matrices\n",
        "  3.Comparisons across two dimensions\n",
        "  4.Identifying patterns"
      ],
      "metadata": {
        "id": "oPXimYLyfcJM"
      }
    },
    {
      "cell_type": "markdown",
      "source": [
        "8.What does the term \"vectorized operation\" mean in NumPy?\n",
        "\n",
        " In NumPy, a vectorized operation means performing operations on entire arrays at once, without using explicit Python loops.\n",
        " Instead of looping through each element manually, NumPy uses highly optimized C and Fortran implementations under the hood. This makes the operations faster and more efficient.\n"
      ],
      "metadata": {
        "id": "Sjvuccycg72t"
      }
    },
    {
      "cell_type": "markdown",
      "source": [
        "9.How does Matplotlib ditfer from Plotly?\n",
        "  \n",
        "  Matplotlib:\n",
        " Type: Traditional 2D plotting library in Python.\n",
        " Interactivity: Mainly static plots (though matplotlib.pyplot has some interactive modes, they’re limited).\n",
        " Customization: Very flexible but requires more code for complex styling.\n",
        "\n",
        " Plotly:\n",
        " Type: Interactive plotting library (works in Jupyter, web apps, dashboards).\n",
        " Interactivity: Zooming, panning, hover tooltips, dynamic legends are built-in.\n",
        " Customization: Easier for modern, stylish visualizations.\n",
        "\n",
        "\n",
        "\n",
        "\n"
      ],
      "metadata": {
        "id": "3R-w1BUIh_90"
      }
    },
    {
      "cell_type": "markdown",
      "source": [
        "10.What is the significance of hierarchical indexing in Pandas?\n",
        "   \n",
        "   Hierarchical indexing (also known as multi-level indexing) in Pandas is a powerful feature that allows you to work with higher-dimensional data in a lower-dimensional (2D) structure like a DataFrame or Series. Here's a breakdown of its significance"
      ],
      "metadata": {
        "id": "n35wx1GYjQc0"
      }
    },
    {
      "cell_type": "markdown",
      "source": [],
      "metadata": {
        "id": "zxk_W4eTlNvs"
      }
    },
    {
      "cell_type": "markdown",
      "source": [
        "11. What is the role of Seaborn's pairplot() function?\n",
        "\n",
        "   Seaborn’s pairplot() is a powerful visualization tool used to explore relationships between multiple variables in a dataset, especially when dealing with numerical features."
      ],
      "metadata": {
        "id": "CWd6Sv4YldXM"
      }
    },
    {
      "cell_type": "markdown",
      "source": [],
      "metadata": {
        "id": "FkmsbP3qlcV0"
      }
    },
    {
      "cell_type": "markdown",
      "source": [
        "12. What is the purpose of the describe() function in Pandas?\n",
        "\n",
        "  The describe() function in Pandas is used to generate descriptive statistics of a DataFrame or Series.\n",
        "  It provides a quick summary of the central tendency, dispersion, and distribution of numeric data\n"
      ],
      "metadata": {
        "id": "hF_1Ph1lltVF"
      }
    },
    {
      "cell_type": "markdown",
      "source": [
        "13.Why is handling missing data important in Pandas?\n",
        "  \n",
        "  Handling missing data is one of the most important parts of data cleaning in Pandas, because unhandled missing values can lead to wrong results, errors, or bias in analysis and modeling"
      ],
      "metadata": {
        "id": "bCEGHid6mLqt"
      }
    },
    {
      "cell_type": "markdown",
      "source": [
        "14.hat are the benefits of using Ploty for data visuallzation?\n",
        "   \n",
        "   Plotly is widely used in Python (and other languages) for creating rich, interactive, and publication-quality visualizations.\n",
        "   1.Interactivity by Default\n",
        "   2. Wide Variety of Charts\n",
        "   3. High-Quality, Publication-Ready"
      ],
      "metadata": {
        "id": "eeXffxJLmd71"
      }
    },
    {
      "cell_type": "markdown",
      "source": [],
      "metadata": {
        "id": "2wYvW6KQlE91"
      }
    },
    {
      "cell_type": "markdown",
      "source": [
        "15. How does NumPy handle multidimensional arrays?\n",
        "\n",
        "   NumPy’s core strength is handling ndarrays (N-dimensional arrays).\n",
        "   An ndarray can be 1D (vector), 2D (matrix), or higher dimensions (tensors).\n",
        "   1. Array Creation\n",
        "   2. Shape and Dimensions\n",
        "   3. Indexing and Slicing\n",
        "   4. Broadcasting\n",
        "   5. Vectorized Operations\n",
        "   6. Reshaping and Transposing\n",
        "   7. Multidimensional Operations\n",
        "   \n"
      ],
      "metadata": {
        "id": "qM4UsdDVm8Hl"
      }
    },
    {
      "cell_type": "markdown",
      "source": [
        "16.What is the role of Bokeh in data visualization?\n",
        "\n",
        "  Its main role is to help users create dynamic, interactive plots and dashboards that can be used in web browsers without needing JavaScript knowledge.\n",
        "  "
      ],
      "metadata": {
        "id": "KTF0uJ8BnyAF"
      }
    },
    {
      "cell_type": "markdown",
      "source": [
        "17.Explain the diference between apply() and map() in Pandas\n",
        "\n",
        "   apply()\n",
        "   Works with both Series and DataFrame.\n",
        "  Applies a function along an axis (rows or columns).\n",
        "  Much more flexible and powerful than map().\n",
        "\n",
        "  map()\n",
        "  Used only with Pandas Series (1D data).\n",
        "  Applies a function, dictionary, or Series element-wise.\n",
        "  Best for simple transformations on a single column."
      ],
      "metadata": {
        "id": "TA2tA7jboGt1"
      }
    },
    {
      "cell_type": "markdown",
      "source": [
        "18.What are some advanced features of NumPy?\n",
        "\n",
        "   1. Broadcasting\n",
        "   2. Vectorization\n",
        "   3. Masked Arrays\n",
        "   4. Fancy Indexing & Boolean Indexing\n",
        "   5. Linear Algebra Operations"
      ],
      "metadata": {
        "id": "lLP79b1Wo6B9"
      }
    },
    {
      "cell_type": "markdown",
      "source": [
        "19.How does Pandas simplify time series analysis\n",
        "\n",
        "  Date and Time Handling with datetime & Timestamp\n",
        "  Pandas converts strings into datetime objects automatically using pd.to_datetime().\n",
        "  Provides its own Timestamp and DatetimeIndex types for precise handling."
      ],
      "metadata": {
        "id": "VYJR7xCUpgT-"
      }
    },
    {
      "cell_type": "markdown",
      "source": [
        "20.What is the role of a pivot table in Pandas?\n",
        "\n",
        "  A pivot table in Pandas is used to summarize, group, and reorganize data into a more meaningful structure.\n",
        "  It helps you aggregate data (mean, sum, count, etc.) across multiple dimensions, similar to Excel pivot tables"
      ],
      "metadata": {
        "id": "p8y7_Amyp48d"
      }
    },
    {
      "cell_type": "markdown",
      "source": [
        "21.Why is NumPys arayslcing faster than Python's ist slicing?"
      ],
      "metadata": {
        "id": "EjG7YcuQqHR9"
      }
    },
    {
      "cell_type": "markdown",
      "source": [
        "22. What are some common use cases for Seaborn?\n",
        "\n",
        "  Seaborn is a Python data visualization library built on top of Matplotlib, designed to make statistical plots easier and more beautiful.\n",
        "  Here are the common use cases for Seaborn:\n",
        "  1. Exploratory Data Analysis (EDA)\n",
        "  2. Distribution Plots\n",
        "  3. Relationship Plots\n",
        "  4. Heatmaps & Correlation Analysis"
      ],
      "metadata": {
        "id": "_zjTqbFkqXYd"
      }
    }
  ]
}